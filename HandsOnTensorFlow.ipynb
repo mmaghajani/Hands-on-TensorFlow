{
 "cells": [
  {
   "cell_type": "code",
   "execution_count": 1,
   "metadata": {
    "collapsed": true
   },
   "outputs": [],
   "source": [
    "import tensorflow as tf\n",
    "import matplotlib.pyplot as plt"
   ]
  },
  {
   "cell_type": "markdown",
   "metadata": {
    "collapsed": false
   },
   "source": [
    "## Linear Regression"
   ]
  },
  {
   "cell_type": "code",
   "execution_count": 2,
   "metadata": {},
   "outputs": [],
   "source": [
    "W = tf.Variable(tf.zeros([2, 1]), name=\"weights\")\n",
    "b = tf.Variable(0., name=\"bias\")"
   ]
  },
  {
   "cell_type": "markdown",
   "metadata": {},
   "source": [
    "define inference function for derive Y"
   ]
  },
  {
   "cell_type": "code",
   "execution_count": 3,
   "metadata": {},
   "outputs": [],
   "source": [
    "def inference(X):\n",
    "    return tf.matmul(X, W) + b"
   ]
  },
  {
   "cell_type": "markdown",
   "metadata": {},
   "source": [
    "inputs is defined as below"
   ]
  },
  {
   "cell_type": "code",
   "execution_count": 4,
   "metadata": {},
   "outputs": [],
   "source": [
    "def inputs():\n",
    "    blood_fat_content = [354, 190, 405, 263, 451, 302,\n",
    "                         288, 385, 402, 365, 209, 290,\n",
    "                         346, 254, 395, 434, 220, 374,\n",
    "                         308, 220, 311, 181, 274, 303,\n",
    "                         244]\n",
    "\n",
    "    weight_age = [[84, 46], [73, 20], [65, 52], [70, 30], [76, 57],\n",
    "                  [69, 25], [63, 28], [72, 36], [79, 57], [75, 44],\n",
    "                  [27, 24], [89, 31], [65, 52], [57, 23], [59, 60],\n",
    "                  [69, 48], [60, 34], [79, 51], [75, 50], [82, 34],\n",
    "                  [59, 46], [67, 23], [85, 37], [55, 40], [63, 30]]\n",
    "    return tf.to_float(weight_age), tf.to_float(blood_fat_content)"
   ]
  },
  {
   "cell_type": "markdown",
   "metadata": {},
   "source": [
    "Train function use learning rate = 0.0000001"
   ]
  },
  {
   "cell_type": "code",
   "execution_count": 5,
   "metadata": {},
   "outputs": [],
   "source": [
    "def train(loss_function):\n",
    "    alpha = 0.0000001\n",
    "    return tf.train.GradientDescentOptimizer(alpha).minimize(loss_function)"
   ]
  },
  {
   "cell_type": "markdown",
   "metadata": {},
   "source": [
    "Define loss function as squared error"
   ]
  },
  {
   "cell_type": "code",
   "execution_count": 6,
   "metadata": {},
   "outputs": [],
   "source": [
    "def loss(X, Y):\n",
    "    Y_hat = tf.transpose(inference(X))\n",
    "    return tf.reduce_sum(tf.squared_difference(Y, Y_hat))"
   ]
  },
  {
   "cell_type": "markdown",
   "metadata": {},
   "source": [
    "In evaluation use one sample as a test data that age is 25 and \n",
    "weight is 60 to 100"
   ]
  },
  {
   "cell_type": "code",
   "execution_count": 7,
   "metadata": {},
   "outputs": [],
   "source": [
    "def evaluate(sess):\n",
    "    weights = []\n",
    "    fats = []\n",
    "    for w in range(60, 100, 1):\n",
    "        weights.append(w)\n",
    "        fats.append((sess.run(inference([[float(w), 25.]])))[0])\n",
    "    plt.plot(weights, fats)\n",
    "    plt.ylabel('Fat')\n",
    "    plt.xlabel('Weight')\n",
    "    plt.show()"
   ]
  },
  {
   "cell_type": "markdown",
   "metadata": {},
   "source": [
    "set W and b as a variable and use session to run !"
   ]
  },
  {
   "cell_type": "code",
   "execution_count": 8,
   "metadata": {},
   "outputs": [],
   "source": [
    "W = tf.Variable(tf.zeros([2, 1]), name=\"weights\")\n",
    "b = tf.Variable(0., name=\"bias\")"
   ]
  },
  {
   "cell_type": "code",
   "execution_count": 9,
   "metadata": {},
   "outputs": [
    {
     "data": {
      "image/png": "[encoded data removed]",
      "text/plain": [
       "<Figure size 432x288 with 1 Axes>"
      ]
     },
     "metadata": {},
     "output_type": "display_data"
    }
   ],
   "source": [
    "sess = tf.Session()\n",
    "sess.run(tf.global_variables_initializer())\n",
    "\n",
    "X_train, Y_train = inputs()\n",
    "loss_func = loss(X_train, Y_train)\n",
    "train_op = train(loss_func)\n",
    "\n",
    "training_steps = 100\n",
    "for epoch in range(training_steps):\n",
    "    sess.run([train_op])\n",
    "\n",
    "evaluate(sess)\n",
    "sess.close()"
   ]
  },
  {
   "cell_type": "markdown",
   "metadata": {},
   "source": [
    "## Logistic Regression"
   ]
  },
  {
   "cell_type": "code",
   "execution_count": 75,
   "metadata": {},
   "outputs": [],
   "source": [
    "import pandas as pd"
   ]
  },
  {
   "cell_type": "code",
   "execution_count": 76,
   "metadata": {},
   "outputs": [
    {
     "data": {
      "text/html": [
       "<div>\n",
       "<style scoped>\n",
       "    .dataframe tbody tr th:only-of-type {\n",
       "        vertical-align: middle;\n",
       "    }\n",
       "\n",
       "    .dataframe tbody tr th {\n",
       "        vertical-align: top;\n",
       "    }\n",
       "\n",
       "    .dataframe thead th {\n",
       "        text-align: right;\n",
       "    }\n",
       "</style>\n",
       "<table border=\"1\" class=\"dataframe\">\n",
       "  <thead>\n",
       "    <tr style=\"text-align: right;\">\n",
       "      <th></th>\n",
       "      <th>PassengerId</th>\n",
       "      <th>Survived</th>\n",
       "      <th>Pclass</th>\n",
       "      <th>Name</th>\n",
       "      <th>Sex</th>\n",
       "      <th>Age</th>\n",
       "      <th>SibSp</th>\n",
       "      <th>Parch</th>\n",
       "      <th>Ticket</th>\n",
       "      <th>Fare</th>\n",
       "      <th>Cabin</th>\n",
       "      <th>Embarked</th>\n",
       "    </tr>\n",
       "  </thead>\n",
       "  <tbody>\n",
       "    <tr>\n",
       "      <th>0</th>\n",
       "      <td>1</td>\n",
       "      <td>0</td>\n",
       "      <td>3</td>\n",
       "      <td>Braund, Mr. Owen Harris</td>\n",
       "      <td>male</td>\n",
       "      <td>22.0</td>\n",
       "      <td>1</td>\n",
       "      <td>0</td>\n",
       "      <td>A/5 21171</td>\n",
       "      <td>7.2500</td>\n",
       "      <td>NaN</td>\n",
       "      <td>S</td>\n",
       "    </tr>\n",
       "    <tr>\n",
       "      <th>1</th>\n",
       "      <td>2</td>\n",
       "      <td>1</td>\n",
       "      <td>1</td>\n",
       "      <td>Cumings, Mrs. John Bradley (Florence Briggs Th...</td>\n",
       "      <td>female</td>\n",
       "      <td>38.0</td>\n",
       "      <td>1</td>\n",
       "      <td>0</td>\n",
       "      <td>PC 17599</td>\n",
       "      <td>71.2833</td>\n",
       "      <td>C85</td>\n",
       "      <td>C</td>\n",
       "    </tr>\n",
       "    <tr>\n",
       "      <th>2</th>\n",
       "      <td>3</td>\n",
       "      <td>1</td>\n",
       "      <td>3</td>\n",
       "      <td>Heikkinen, Miss. Laina</td>\n",
       "      <td>female</td>\n",
       "      <td>26.0</td>\n",
       "      <td>0</td>\n",
       "      <td>0</td>\n",
       "      <td>STON/O2. 3101282</td>\n",
       "      <td>7.9250</td>\n",
       "      <td>NaN</td>\n",
       "      <td>S</td>\n",
       "    </tr>\n",
       "    <tr>\n",
       "      <th>3</th>\n",
       "      <td>4</td>\n",
       "      <td>1</td>\n",
       "      <td>1</td>\n",
       "      <td>Futrelle, Mrs. Jacques Heath (Lily May Peel)</td>\n",
       "      <td>female</td>\n",
       "      <td>35.0</td>\n",
       "      <td>1</td>\n",
       "      <td>0</td>\n",
       "      <td>113803</td>\n",
       "      <td>53.1000</td>\n",
       "      <td>C123</td>\n",
       "      <td>S</td>\n",
       "    </tr>\n",
       "    <tr>\n",
       "      <th>4</th>\n",
       "      <td>5</td>\n",
       "      <td>0</td>\n",
       "      <td>3</td>\n",
       "      <td>Allen, Mr. William Henry</td>\n",
       "      <td>male</td>\n",
       "      <td>35.0</td>\n",
       "      <td>0</td>\n",
       "      <td>0</td>\n",
       "      <td>373450</td>\n",
       "      <td>8.0500</td>\n",
       "      <td>NaN</td>\n",
       "      <td>S</td>\n",
       "    </tr>\n",
       "  </tbody>\n",
       "</table>\n",
       "</div>"
      ],
      "text/plain": [
       "<div>\n",
       "<style scoped>\n",
       "    .dataframe tbody tr th:only-of-type {\n",
       "        vertical-align: middle;\n",
       "    }\n",
       "\n",
       "    .dataframe tbody tr th {\n",
       "        vertical-align: top;\n",
       "    }\n",
       "\n",
       "    .dataframe thead th {\n",
       "        text-align: right;\n",
       "    }\n",
       "</style>\n",
       "<table border=\"1\" class=\"dataframe\">\n",
       "  <thead>\n",
       "    <tr style=\"text-align: right;\">\n",
       "      <th></th>\n",
       "      <th>PassengerId</th>\n",
       "      <th>Survived</th>\n",
       "      <th>Pclass</th>\n",
       "      <th>Name</th>\n",
       "      <th>Sex</th>\n",
       "      <th>Age</th>\n",
       "      <th>SibSp</th>\n",
       "      <th>Parch</th>\n",
       "      <th>Ticket</th>\n",
       "      <th>Fare</th>\n",
       "      <th>Cabin</th>\n",
       "      <th>Embarked</th>\n",
       "    </tr>\n",
       "  </thead>\n",
       "  <tbody>\n",
       "    <tr>\n",
       "      <th>0</th>\n",
       "      <td>1</td>\n",
       "      <td>0</td>\n",
       "      <td>3</td>\n",
       "      <td>Braund, Mr. Owen Harris</td>\n",
       "      <td>male</td>\n",
       "      <td>22.0</td>\n",
       "      <td>1</td>\n",
       "      <td>0</td>\n",
       "      <td>A/5 21171</td>\n",
       "      <td>7.2500</td>\n",
       "      <td>NaN</td>\n",
       "      <td>S</td>\n",
       "    </tr>\n",
       "    <tr>\n",
       "      <th>1</th>\n",
       "      <td>2</td>\n",
       "      <td>1</td>\n",
       "      <td>1</td>\n",
       "      <td>Cumings, Mrs. John Bradley (Florence Briggs Th...</td>\n",
       "      <td>female</td>\n",
       "      <td>38.0</td>\n",
       "      <td>1</td>\n",
       "      <td>0</td>\n",
       "      <td>PC 17599</td>\n",
       "      <td>71.2833</td>\n",
       "      <td>C85</td>\n",
       "      <td>C</td>\n",
       "    </tr>\n",
       "    <tr>\n",
       "      <th>2</th>\n",
       "      <td>3</td>\n",
       "      <td>1</td>\n",
       "      <td>3</td>\n",
       "      <td>Heikkinen, Miss. Laina</td>\n",
       "      <td>female</td>\n",
       "      <td>26.0</td>\n",
       "      <td>0</td>\n",
       "      <td>0</td>\n",
       "      <td>STON/O2. 3101282</td>\n",
       "      <td>7.9250</td>\n",
       "      <td>NaN</td>\n",
       "      <td>S</td>\n",
       "    </tr>\n",
       "    <tr>\n",
       "      <th>3</th>\n",
       "      <td>4</td>\n",
       "      <td>1</td>\n",
       "      <td>1</td>\n",
       "      <td>Futrelle, Mrs. Jacques Heath (Lily May Peel)</td>\n",
       "      <td>female</td>\n",
       "      <td>35.0</td>\n",
       "      <td>1</td>\n",
       "      <td>0</td>\n",
       "      <td>113803</td>\n",
       "      <td>53.1000</td>\n",
       "      <td>C123</td>\n",
       "      <td>S</td>\n",
       "    </tr>\n",
       "    <tr>\n",
       "      <th>4</th>\n",
       "      <td>5</td>\n",
       "      <td>0</td>\n",
       "      <td>3</td>\n",
       "      <td>Allen, Mr. William Henry</td>\n",
       "      <td>male</td>\n",
       "      <td>35.0</td>\n",
       "      <td>0</td>\n",
       "      <td>0</td>\n",
       "      <td>373450</td>\n",
       "      <td>8.0500</td>\n",
       "      <td>NaN</td>\n",
       "      <td>S</td>\n",
       "    </tr>\n",
       "  </tbody>\n",
       "</table>\n",
       "</div>"
      ]
     },
     "execution_count": 76,
     "metadata": {},
     "output_type": "execute_result"
    }
   ],
   "source": [
    "data = pd.read_csv('data/Titanic.csv')\n",
    "data[\"Age\"].fillna(0, inplace=True)\n",
    "data.head()\n"
   ]
  },
  {
   "cell_type": "code",
   "execution_count": 77,
   "metadata": {},
   "outputs": [],
   "source": [
    "W = tf.Variable(tf.zeros([5, 1]), name=\"weights\")\n",
    "b = tf.Variable(0., name=\"bias\")"
   ]
  },
  {
   "cell_type": "markdown",
   "metadata": {},
   "source": [
    "#### Inputs"
   ]
  },
  {
   "cell_type": "code",
   "execution_count": 78,
   "metadata": {},
   "outputs": [],
   "source": [
    "data.replace({\"Sex\": {\"male\": 1, \"female\": 0}}, inplace=True)\n",
    "# data = pd.get_dummies(data, columns=['Pclass'])\n",
    "train_data = data.sample(frac=0.8, random_state=99)\n",
    "test_data = data.loc[~data.index.isin(train_data.index), :]\n",
    "X_train = train_data.loc[:, ['Pclass', 'Sex', 'Age']]\n",
    "X_train = pd.get_dummies(X_train, columns=['Pclass'])\n",
    "X_test = test_data.loc[:, ['Pclass', 'Sex', 'Age']]\n",
    "X_test = pd.get_dummies(X_test, columns=['Pclass'])\n",
    "Y_train = train_data.loc[:, ['Survived']]\n",
    "Y_test = test_data.loc[:, ['Survived']]"
   ]
  },
  {
   "cell_type": "code",
   "execution_count": 79,
   "metadata": {},
   "outputs": [],
   "source": [
    "def inference(X):\n",
    "    return tf.sigmoid(tf.matmul(tf.cast(X, tf.float32), W) + b)"
   ]
  },
  {
   "cell_type": "code",
   "execution_count": 80,
   "metadata": {},
   "outputs": [],
   "source": [
    "def loss(X, Y):\n",
    "    Y_hat = tf.transpose(inference(X))\n",
    "    return tf.reduce_sum(-1*tf.matmul(tf.cast(Y, tf.float32), tf.log(Y_hat)) + \n",
    "                         tf.matmul(tf.cast(Y - 1, tf.float32), tf.log(1-Y_hat)))"
   ]
  },
  {
   "cell_type": "code",
   "execution_count": 81,
   "metadata": {},
   "outputs": [],
   "source": [
    "def train(loss_function):\n",
    "    alpha = 0.01\n",
    "    return tf.train.GradientDescentOptimizer(alpha).minimize(loss_function)"
   ]
  },
  {
   "cell_type": "code",
   "execution_count": 86,
   "metadata": {},
   "outputs": [],
   "source": [
    "def evaluate_logistic_regression(sess, X_test, Y_test):\n",
    "    # predicted = tf.cast(inference(X_test) > 0.5, tf.float32)\n",
    "    print(sess.run(inference(X_test)))"
   ]
  },
  {
   "cell_type": "code",
   "execution_count": 85,
   "metadata": {
    "collapsed": false
   },
   "outputs": [
    {
     "name": "stdout",
     "output_type": "stream",
     "text": [
      "0\n"
     ]
    },
    {
     "name": "stdout",
     "output_type": "stream",
     "text": [
      "1\n"
     ]
    },
    {
     "name": "stdout",
     "output_type": "stream",
     "text": [
      "2\n"
     ]
    },
    {
     "name": "stdout",
     "output_type": "stream",
     "text": [
      "3\n"
     ]
    },
    {
     "name": "stdout",
     "output_type": "stream",
     "text": [
      "4\n"
     ]
    },
    {
     "name": "stdout",
     "output_type": "stream",
     "text": [
      "5\n"
     ]
    },
    {
     "name": "stdout",
     "output_type": "stream",
     "text": [
      "6\n"
     ]
    },
    {
     "name": "stdout",
     "output_type": "stream",
     "text": [
      "7\n"
     ]
    },
    {
     "name": "stdout",
     "output_type": "stream",
     "text": [
      "8\n"
     ]
    },
    {
     "name": "stdout",
     "output_type": "stream",
     "text": [
      "9\n"
     ]
    },
    {
     "name": "stdout",
     "output_type": "stream",
     "text": [
      "[[nan]\n [nan]\n [nan]\n [nan]\n [nan]\n [nan]\n [nan]\n [nan]\n [nan]\n [nan]\n [nan]\n [nan]\n [nan]\n [nan]\n [nan]\n [nan]\n [nan]\n [nan]\n [nan]\n [nan]\n [nan]\n [nan]\n [nan]\n [nan]\n [nan]\n [nan]\n [nan]\n [nan]\n [nan]\n [nan]\n [nan]\n [nan]\n [nan]\n [nan]\n [nan]\n [nan]\n [nan]\n [nan]\n [nan]\n [nan]\n [nan]\n [nan]\n [nan]\n [nan]\n [nan]\n [nan]\n [nan]\n [nan]\n [nan]\n [nan]\n [nan]\n [nan]\n [nan]\n [nan]\n [nan]\n [nan]\n [nan]\n [nan]\n [nan]\n [nan]\n [nan]\n [nan]\n [nan]\n [nan]\n [nan]\n [nan]\n [nan]\n [nan]\n [nan]\n [nan]\n [nan]\n [nan]\n [nan]\n [nan]\n [nan]\n [nan]\n [nan]\n [nan]\n [nan]\n [nan]\n [nan]\n [nan]\n [nan]\n [nan]\n [nan]\n [nan]\n [nan]\n [nan]\n [nan]\n [nan]\n [nan]\n [nan]\n [nan]\n [nan]\n [nan]\n [nan]\n [nan]\n [nan]\n [nan]\n [nan]\n [nan]\n [nan]\n [nan]\n [nan]\n [nan]\n [nan]\n [nan]\n [nan]\n [nan]\n [nan]\n [nan]\n [nan]\n [nan]\n [nan]\n [nan]\n [nan]\n [nan]\n [nan]\n [nan]\n [nan]\n [nan]\n [nan]\n [nan]\n [nan]\n [nan]\n [nan]\n [nan]\n [nan]\n [nan]\n [nan]\n [nan]\n [nan]\n [nan]\n [nan]\n [nan]\n [nan]\n [nan]\n [nan]\n [nan]\n [nan]\n [nan]\n [nan]\n [nan]\n [nan]\n [nan]\n [nan]\n [nan]\n [nan]\n [nan]\n [nan]\n [nan]\n [nan]\n [nan]\n [nan]\n [nan]\n [nan]\n [nan]\n [nan]\n [nan]\n [nan]\n [nan]\n [nan]\n [nan]\n [nan]\n [nan]\n [nan]\n [nan]\n [nan]\n [nan]\n [nan]\n [nan]\n [nan]\n [nan]\n [nan]\n [nan]\n [nan]\n [nan]\n [nan]]\n"
     ]
    }
   ],
   "source": [
    "\n",
    "x = tf.placeholder(dtype=tf.float32, shape=(None, X_train.shape[1]))\n",
    "y = tf.placeholder(dtype=tf.float32, shape=(None, Y_train.shape[1]))\n",
    "\n",
    "sess = tf.Session()\n",
    "sess.run(tf.global_variables_initializer())\n",
    "K = 500\n",
    "training_steps = 10\n",
    "for epoch in range(training_steps):\n",
    "    for i in range(0, X_train.shape[0], K):\n",
    "        loss_func = loss(X_train[i:i+K], Y_train[i:i+K])\n",
    "        train_op = train(loss_func)\n",
    "        sess.run(train_op, feed_dict={x: X_train[i:i+K], y: Y_train[i:i+K]})\n",
    "        # print(i)\n",
    "    print(epoch)\n",
    "\n",
    "evaluate_logistic_regression(sess, X_test, Y_test)\n",
    "sess.close()"
   ]
  },
  {
   "cell_type": "code",
   "execution_count": null,
   "metadata": {},
   "outputs": [],
   "source": []
  }
 ],
 "metadata": {
  "kernelspec": {
   "display_name": "Python 2",
   "language": "python",
   "name": "python2"
  },
  "language_info": {
   "codemirror_mode": {
    "name": "ipython",
    "version": 2
   },
   "file_extension": ".py",
   "mimetype": "text/x-python",
   "name": "python",
   "nbconvert_exporter": "python",
   "pygments_lexer": "ipython2",
   "version": "2.7.6"
  }
 },
 "nbformat": 4,
 "nbformat_minor": 0
}
